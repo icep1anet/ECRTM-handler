{
 "cells": [
  {
   "cell_type": "code",
   "execution_count": 3,
   "metadata": {},
   "outputs": [
    {
     "name": "stdout",
     "output_type": "stream",
     "text": [
      "Requirement already satisfied: topmost in c:\\users\\iceplanet\\miniconda3\\envs\\ecrtmcustom\\lib\\site-packages (0.0.1)\n",
      "Requirement already satisfied: pyyaml in c:\\users\\iceplanet\\miniconda3\\envs\\ecrtmcustom\\lib\\site-packages (6.0.1)\n",
      "Requirement already satisfied: gensim in c:\\users\\iceplanet\\miniconda3\\envs\\ecrtmcustom\\lib\\site-packages (4.3.2)\n",
      "Requirement already satisfied: torch==1.13.1 in c:\\users\\iceplanet\\miniconda3\\envs\\ecrtmcustom\\lib\\site-packages (from topmost) (1.13.1)\n",
      "Requirement already satisfied: torchvision>=0.14.1 in c:\\users\\iceplanet\\miniconda3\\envs\\ecrtmcustom\\lib\\site-packages (from topmost) (0.14.1)\n",
      "Requirement already satisfied: scikit-learn>=0.24.2 in c:\\users\\iceplanet\\miniconda3\\envs\\ecrtmcustom\\lib\\site-packages (from topmost) (1.4.1.post1)\n",
      "Requirement already satisfied: tqdm in c:\\users\\iceplanet\\miniconda3\\envs\\ecrtmcustom\\lib\\site-packages (from topmost) (4.66.2)\n",
      "Requirement already satisfied: python-Levenshtein in c:\\users\\iceplanet\\miniconda3\\envs\\ecrtmcustom\\lib\\site-packages (from topmost) (0.25.0)\n",
      "Requirement already satisfied: typing-extensions in c:\\users\\iceplanet\\miniconda3\\envs\\ecrtmcustom\\lib\\site-packages (from torch==1.13.1->topmost) (4.10.0)\n",
      "Requirement already satisfied: numpy>=1.18.5 in c:\\users\\iceplanet\\miniconda3\\envs\\ecrtmcustom\\lib\\site-packages (from gensim) (1.26.4)\n",
      "Requirement already satisfied: scipy>=1.7.0 in c:\\users\\iceplanet\\miniconda3\\envs\\ecrtmcustom\\lib\\site-packages (from gensim) (1.12.0)\n",
      "Requirement already satisfied: smart-open>=1.8.1 in c:\\users\\iceplanet\\miniconda3\\envs\\ecrtmcustom\\lib\\site-packages (from gensim) (7.0.1)\n",
      "Requirement already satisfied: joblib>=1.2.0 in c:\\users\\iceplanet\\miniconda3\\envs\\ecrtmcustom\\lib\\site-packages (from scikit-learn>=0.24.2->topmost) (1.3.2)\n",
      "Requirement already satisfied: threadpoolctl>=2.0.0 in c:\\users\\iceplanet\\miniconda3\\envs\\ecrtmcustom\\lib\\site-packages (from scikit-learn>=0.24.2->topmost) (3.3.0)\n",
      "Requirement already satisfied: wrapt in c:\\users\\iceplanet\\miniconda3\\envs\\ecrtmcustom\\lib\\site-packages (from smart-open>=1.8.1->gensim) (1.16.0)\n",
      "Requirement already satisfied: requests in c:\\users\\iceplanet\\miniconda3\\envs\\ecrtmcustom\\lib\\site-packages (from torchvision>=0.14.1->topmost) (2.31.0)\n",
      "Requirement already satisfied: pillow!=8.3.*,>=5.3.0 in c:\\users\\iceplanet\\miniconda3\\envs\\ecrtmcustom\\lib\\site-packages (from torchvision>=0.14.1->topmost) (10.2.0)\n",
      "Requirement already satisfied: Levenshtein==0.25.0 in c:\\users\\iceplanet\\miniconda3\\envs\\ecrtmcustom\\lib\\site-packages (from python-Levenshtein->topmost) (0.25.0)\n",
      "Requirement already satisfied: rapidfuzz<4.0.0,>=3.1.0 in c:\\users\\iceplanet\\miniconda3\\envs\\ecrtmcustom\\lib\\site-packages (from Levenshtein==0.25.0->python-Levenshtein->topmost) (3.6.1)\n",
      "Requirement already satisfied: colorama in c:\\users\\iceplanet\\miniconda3\\envs\\ecrtmcustom\\lib\\site-packages (from tqdm->topmost) (0.4.6)\n",
      "Requirement already satisfied: charset-normalizer<4,>=2 in c:\\users\\iceplanet\\miniconda3\\envs\\ecrtmcustom\\lib\\site-packages (from requests->torchvision>=0.14.1->topmost) (3.3.2)\n",
      "Requirement already satisfied: idna<4,>=2.5 in c:\\users\\iceplanet\\miniconda3\\envs\\ecrtmcustom\\lib\\site-packages (from requests->torchvision>=0.14.1->topmost) (3.6)\n",
      "Requirement already satisfied: urllib3<3,>=1.21.1 in c:\\users\\iceplanet\\miniconda3\\envs\\ecrtmcustom\\lib\\site-packages (from requests->torchvision>=0.14.1->topmost) (2.2.1)\n",
      "Requirement already satisfied: certifi>=2017.4.17 in c:\\users\\iceplanet\\miniconda3\\envs\\ecrtmcustom\\lib\\site-packages (from requests->torchvision>=0.14.1->topmost) (2024.2.2)\n"
     ]
    }
   ],
   "source": [
    "# !pip install topmost pyyaml gensim"
   ]
  },
  {
   "cell_type": "code",
   "execution_count": 1,
   "metadata": {},
   "outputs": [
    {
     "name": "stderr",
     "output_type": "stream",
     "text": [
      "c:\\Users\\iceplanet\\miniconda3\\envs\\ECRTMcustom\\lib\\site-packages\\tqdm\\auto.py:21: TqdmWarning: IProgress not found. Please update jupyter and ipywidgets. See https://ipywidgets.readthedocs.io/en/stable/user_install.html\n",
      "  from .autonotebook import tqdm as notebook_tqdm\n"
     ]
    }
   ],
   "source": [
    "import topmost\n",
    "\n",
    "import gensim\n",
    "from ECRTMhandler import DataHandler, Preprocessings"
   ]
  },
  {
   "cell_type": "code",
   "execution_count": 2,
   "metadata": {},
   "outputs": [],
   "source": [
    "# 複数GPUがある場合は数値で選択可能\n",
    "device = \"cuda\" # or \"cpu\"\n",
    "\n",
    "data = [\"Hello World\",\n",
    "        \"This is the sentense which I am writing\",\n",
    "        \"Hello, How are you ?\"]"
   ]
  },
  {
   "cell_type": "code",
   "execution_count": 3,
   "metadata": {},
   "outputs": [
    {
     "name": "stdout",
     "output_type": "stream",
     "text": [
      "Found training documents 3\n"
     ]
    },
    {
     "name": "stderr",
     "output_type": "stream",
     "text": [
      "===>parse texts: 100%|██████████| 3/3 [00:00<?, ?it/s]"
     ]
    },
    {
     "name": "stdout",
     "output_type": "stream",
     "text": [
      "Real vocab size: 4\n",
      "===>convert to matrix...\n"
     ]
    },
    {
     "name": "stderr",
     "output_type": "stream",
     "text": [
      "\n",
      "c:\\Users\\iceplanet\\miniconda3\\envs\\ECRTMcustom\\lib\\site-packages\\sklearn\\feature_extraction\\text.py:525: UserWarning: The parameter 'token_pattern' will not be used since 'tokenizer' is not None'\n",
      "  warnings.warn(\n"
     ]
    },
    {
     "name": "stdout",
     "output_type": "stream",
     "text": [
      "[==================================================] 100.0% 252.1/252.1MB downloaded\n"
     ]
    },
    {
     "name": "stderr",
     "output_type": "stream",
     "text": [
      "===>making word embeddings: 100%|██████████| 4/4 [00:00<00:00, 636.01it/s]"
     ]
    },
    {
     "name": "stdout",
     "output_type": "stream",
     "text": [
      "===> number of found embeddings: 3/4\n",
      "['hello world', 'sentense writing', 'hello']\n"
     ]
    },
    {
     "name": "stderr",
     "output_type": "stream",
     "text": [
      "\n"
     ]
    }
   ],
   "source": [
    "# preprocess raw data\n",
    "stop_words_4_topmost = list(gensim.parsing.preprocessing.STOPWORDS)\n",
    "preprocessing = Preprocessings(stopwords=stop_words_4_topmost)\n",
    "parsed_texts, bow_matrix, vocab, word_embeddings = preprocessing.parse(texts=data)\n",
    "print(parsed_texts)"
   ]
  },
  {
   "cell_type": "code",
   "execution_count": null,
   "metadata": {},
   "outputs": [],
   "source": [
    "########################### Neural Topic Models ####################################\n",
    "# dataset for neural topic models\n",
    "dataset = DataHandler(data, device=device, read_labels=True, as_tensor=True)\n",
    "\n",
    "# create a model\n",
    "model = topmost.models.ECRTM(vocab_size=dataset.vocab_size, pretrained_WE=dataset.pretrained_WE)\n",
    "model = model.to(device)\n",
    "\n",
    "# create a trainer\n",
    "trainer = topmost.trainers.BasicTrainer(model, dataset)\n",
    "\n",
    "# train the model\n",
    "trainer.train()"
   ]
  }
 ],
 "metadata": {
  "kernelspec": {
   "display_name": "base",
   "language": "python",
   "name": "python3"
  },
  "language_info": {
   "codemirror_mode": {
    "name": "ipython",
    "version": 3
   },
   "file_extension": ".py",
   "mimetype": "text/x-python",
   "name": "python",
   "nbconvert_exporter": "python",
   "pygments_lexer": "ipython3",
   "version": "3.10.13"
  }
 },
 "nbformat": 4,
 "nbformat_minor": 2
}
